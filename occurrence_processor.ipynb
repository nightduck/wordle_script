{
 "cells": [
  {
   "cell_type": "code",
   "execution_count": 2,
   "metadata": {},
   "outputs": [],
   "source": [
    "import string\n",
    "\n",
    "wordlist = []\n",
    "occurrence_list = []\n",
    "\n",
    "with open(\"wordle_ext_dictionary.txt\", 'r') as fin:\n",
    "    for line in fin:\n",
    "        wordlist.append(line.translate(str.maketrans('', '', string.whitespace)))\n",
    "\n",
    "wordlist = set(wordlist)"
   ]
  },
  {
   "cell_type": "code",
   "execution_count": 4,
   "metadata": {},
   "outputs": [],
   "source": [
    "\n",
    "with open(\"enwiki-20190320-words-frequency.txt\", 'r') as fin:\n",
    "    for line in fin:\n",
    "        word, occurrence = line.split(' ')\n",
    "        occurrence = int(occurrence)\n",
    "\n",
    "        if word in wordlist:\n",
    "            wordlist.remove(word)\n",
    "            occurrence_list.append((word, occurrence))\n"
   ]
  },
  {
   "cell_type": "code",
   "execution_count": 5,
   "metadata": {},
   "outputs": [],
   "source": [
    "\n",
    "# Every word not in the occurrence list gets a freebie\n",
    "for word in wordlist:\n",
    "    occurrence_list.append((word, 1))\n"
   ]
  },
  {
   "cell_type": "code",
   "execution_count": 8,
   "metadata": {},
   "outputs": [],
   "source": [
    "\n",
    "with open(\"wordle_occurrence_list.txt\", 'w') as fout:\n",
    "    for w, i in occurrence_list:\n",
    "        fout.write(\"%s %d\\n\" % (w, i))"
   ]
  }
 ],
 "metadata": {
  "interpreter": {
   "hash": "4b41da52158039713ecff39b1ac716ff289107214169617b5a1e57e36e098002"
  },
  "kernelspec": {
   "display_name": "Python 3.6.9 64-bit ('venv3': venv)",
   "language": "python",
   "name": "python3"
  },
  "language_info": {
   "codemirror_mode": {
    "name": "ipython",
    "version": 3
   },
   "file_extension": ".py",
   "mimetype": "text/x-python",
   "name": "python",
   "nbconvert_exporter": "python",
   "pygments_lexer": "ipython3",
   "version": "3.6.9"
  },
  "orig_nbformat": 4
 },
 "nbformat": 4,
 "nbformat_minor": 2
}
